{
 "cells": [
  {
   "cell_type": "code",
   "execution_count": 62,
   "id": "7f7ea110",
   "metadata": {},
   "outputs": [],
   "source": [
    "import pandas as pd \n",
    "import numpy as np \n",
    "import matplotlib.pyplot as plt"
   ]
  },
  {
   "cell_type": "code",
   "execution_count": 63,
   "id": "4c58e72a",
   "metadata": {},
   "outputs": [],
   "source": [
    "data = pd.read_csv(\"C:/Users/57311/Downloads/archive/framingham.csv\" , sep=\",\")"
   ]
  },
  {
   "cell_type": "code",
   "execution_count": 64,
   "id": "f6f1fa2d",
   "metadata": {},
   "outputs": [
    {
     "data": {
      "text/html": [
       "<div>\n",
       "<style scoped>\n",
       "    .dataframe tbody tr th:only-of-type {\n",
       "        vertical-align: middle;\n",
       "    }\n",
       "\n",
       "    .dataframe tbody tr th {\n",
       "        vertical-align: top;\n",
       "    }\n",
       "\n",
       "    .dataframe thead th {\n",
       "        text-align: right;\n",
       "    }\n",
       "</style>\n",
       "<table border=\"1\" class=\"dataframe\">\n",
       "  <thead>\n",
       "    <tr style=\"text-align: right;\">\n",
       "      <th></th>\n",
       "      <th>male</th>\n",
       "      <th>age</th>\n",
       "      <th>education</th>\n",
       "      <th>currentSmoker</th>\n",
       "      <th>cigsPerDay</th>\n",
       "      <th>BPMeds</th>\n",
       "      <th>prevalentStroke</th>\n",
       "      <th>prevalentHyp</th>\n",
       "      <th>diabetes</th>\n",
       "      <th>totChol</th>\n",
       "      <th>sysBP</th>\n",
       "      <th>diaBP</th>\n",
       "      <th>BMI</th>\n",
       "      <th>heartRate</th>\n",
       "      <th>glucose</th>\n",
       "      <th>TenYearCHD</th>\n",
       "    </tr>\n",
       "  </thead>\n",
       "  <tbody>\n",
       "    <tr>\n",
       "      <th>0</th>\n",
       "      <td>1</td>\n",
       "      <td>39</td>\n",
       "      <td>4.0</td>\n",
       "      <td>0</td>\n",
       "      <td>0.0</td>\n",
       "      <td>0.0</td>\n",
       "      <td>0</td>\n",
       "      <td>0</td>\n",
       "      <td>0</td>\n",
       "      <td>195.0</td>\n",
       "      <td>106.0</td>\n",
       "      <td>70.0</td>\n",
       "      <td>26.97</td>\n",
       "      <td>80.0</td>\n",
       "      <td>77.0</td>\n",
       "      <td>0</td>\n",
       "    </tr>\n",
       "    <tr>\n",
       "      <th>1</th>\n",
       "      <td>0</td>\n",
       "      <td>46</td>\n",
       "      <td>2.0</td>\n",
       "      <td>0</td>\n",
       "      <td>0.0</td>\n",
       "      <td>0.0</td>\n",
       "      <td>0</td>\n",
       "      <td>0</td>\n",
       "      <td>0</td>\n",
       "      <td>250.0</td>\n",
       "      <td>121.0</td>\n",
       "      <td>81.0</td>\n",
       "      <td>28.73</td>\n",
       "      <td>95.0</td>\n",
       "      <td>76.0</td>\n",
       "      <td>0</td>\n",
       "    </tr>\n",
       "    <tr>\n",
       "      <th>2</th>\n",
       "      <td>1</td>\n",
       "      <td>48</td>\n",
       "      <td>1.0</td>\n",
       "      <td>1</td>\n",
       "      <td>20.0</td>\n",
       "      <td>0.0</td>\n",
       "      <td>0</td>\n",
       "      <td>0</td>\n",
       "      <td>0</td>\n",
       "      <td>245.0</td>\n",
       "      <td>127.5</td>\n",
       "      <td>80.0</td>\n",
       "      <td>25.34</td>\n",
       "      <td>75.0</td>\n",
       "      <td>70.0</td>\n",
       "      <td>0</td>\n",
       "    </tr>\n",
       "  </tbody>\n",
       "</table>\n",
       "</div>"
      ],
      "text/plain": [
       "   male  age  education  currentSmoker  cigsPerDay  BPMeds  prevalentStroke  \\\n",
       "0     1   39        4.0              0         0.0     0.0                0   \n",
       "1     0   46        2.0              0         0.0     0.0                0   \n",
       "2     1   48        1.0              1        20.0     0.0                0   \n",
       "\n",
       "   prevalentHyp  diabetes  totChol  sysBP  diaBP    BMI  heartRate  glucose  \\\n",
       "0             0         0    195.0  106.0   70.0  26.97       80.0     77.0   \n",
       "1             0         0    250.0  121.0   81.0  28.73       95.0     76.0   \n",
       "2             0         0    245.0  127.5   80.0  25.34       75.0     70.0   \n",
       "\n",
       "   TenYearCHD  \n",
       "0           0  \n",
       "1           0  \n",
       "2           0  "
      ]
     },
     "execution_count": 64,
     "metadata": {},
     "output_type": "execute_result"
    }
   ],
   "source": [
    "data.head(3)"
   ]
  },
  {
   "cell_type": "code",
   "execution_count": 65,
   "id": "b794daaa",
   "metadata": {},
   "outputs": [
    {
     "data": {
      "text/html": [
       "<div>\n",
       "<style scoped>\n",
       "    .dataframe tbody tr th:only-of-type {\n",
       "        vertical-align: middle;\n",
       "    }\n",
       "\n",
       "    .dataframe tbody tr th {\n",
       "        vertical-align: top;\n",
       "    }\n",
       "\n",
       "    .dataframe thead th {\n",
       "        text-align: right;\n",
       "    }\n",
       "</style>\n",
       "<table border=\"1\" class=\"dataframe\">\n",
       "  <thead>\n",
       "    <tr style=\"text-align: right;\">\n",
       "      <th></th>\n",
       "      <th>BMI</th>\n",
       "      <th>male</th>\n",
       "    </tr>\n",
       "  </thead>\n",
       "  <tbody>\n",
       "    <tr>\n",
       "      <th>0</th>\n",
       "      <td>26.97</td>\n",
       "      <td>1</td>\n",
       "    </tr>\n",
       "    <tr>\n",
       "      <th>1</th>\n",
       "      <td>28.73</td>\n",
       "      <td>0</td>\n",
       "    </tr>\n",
       "    <tr>\n",
       "      <th>2</th>\n",
       "      <td>25.34</td>\n",
       "      <td>1</td>\n",
       "    </tr>\n",
       "    <tr>\n",
       "      <th>3</th>\n",
       "      <td>28.58</td>\n",
       "      <td>0</td>\n",
       "    </tr>\n",
       "    <tr>\n",
       "      <th>4</th>\n",
       "      <td>23.10</td>\n",
       "      <td>0</td>\n",
       "    </tr>\n",
       "  </tbody>\n",
       "</table>\n",
       "</div>"
      ],
      "text/plain": [
       "     BMI  male\n",
       "0  26.97     1\n",
       "1  28.73     0\n",
       "2  25.34     1\n",
       "3  28.58     0\n",
       "4  23.10     0"
      ]
     },
     "execution_count": 65,
     "metadata": {},
     "output_type": "execute_result"
    }
   ],
   "source": [
    "data[['BMI','male']].head()"
   ]
  },
  {
   "cell_type": "code",
   "execution_count": 66,
   "id": "3d2e1341",
   "metadata": {},
   "outputs": [
    {
     "data": {
      "text/plain": [
       "<Axes: xlabel='BMI', ylabel='male'>"
      ]
     },
     "execution_count": 66,
     "metadata": {},
     "output_type": "execute_result"
    },
    {
     "data": {
      "image/png": "[encoded data removed]",
      "text/plain": [
       "<Figure size 640x480 with 1 Axes>"
      ]
     },
     "metadata": {},
     "output_type": "display_data"
    }
   ],
   "source": [
    "data[['BMI','male']].plot.scatter(x='BMI', y='male')"
   ]
  },
  {
   "cell_type": "code",
   "execution_count": 72,
   "id": "e6eb5d63",
   "metadata": {},
   "outputs": [],
   "source": [
    "# pruebas de parametros \n",
    "w = 0.09\n",
    "b = -3.8"
   ]
  },
  {
   "cell_type": "code",
   "execution_count": 71,
   "id": "a806d7e9",
   "metadata": {},
   "outputs": [
    {
     "data": {
      "image/png": "[encoded data removed]",
      "text/plain": [
       "<Figure size 640x480 with 1 Axes>"
      ]
     },
     "metadata": {},
     "output_type": "display_data"
    }
   ],
   "source": [
    "x = np.linspace(0,data['BMI'].max(),80)\n",
    "y = 1/(1+np.exp(-(w*x+b)))\n",
    "\n",
    "data.plot.scatter(x='BMI', y='male')\n",
    "plt.plot(x, y, '-r')\n",
    "plt.ylim(0,data['male'].max()*1.1)\n",
    "\n",
    "plt.show()"
   ]
  },
  {
   "cell_type": "code",
   "execution_count": 73,
   "id": "1df5d1b2",
   "metadata": {},
   "outputs": [
    {
     "data": {
      "text/plain": [
       "0.8369666284441193"
      ]
     },
     "execution_count": 73,
     "metadata": {},
     "output_type": "execute_result"
    }
   ],
   "source": [
    "#calculo de predicciones \n",
    "data['sigmoid'] = 1/(1+np.exp(-(data['BMI']*w+b)))\n",
    "\n",
    "# calculo de la funsion de error \n",
    "data['loss_xi'] = -data['male']*np.log(data['sigmoid'])-(1-data['male'])*np.log(1-data['sigmoid'])\n",
    "cost_j = data['loss_xi'].mean()\n",
    "cost_j\n",
    "\n",
    "\n",
    "\n",
    "\n"
   ]
  },
  {
   "cell_type": "code",
   "execution_count": 76,
   "id": "b5e5ce40",
   "metadata": {},
   "outputs": [],
   "source": [
    "#hacemos dataframe para calcular el error.\n",
    "array =np.mgrid[0.05:0.15:0.01, -4:-3:0.01].reshape(2,-1).T\n",
    "df = pd.DataFrame(data = array,\n",
    "                  columns = ['w','b'])\n",
    "\n",
    "#roud para solventar problema con muchos decimales\n",
    "df['w'] = np.round(df['w'], 6)\n",
    "df['b'] = np.round(df['b'], 6)\n"
   ]
  },
  {
   "cell_type": "code",
   "execution_count": 77,
   "id": "475bb0c2",
   "metadata": {},
   "outputs": [
    {
     "data": {
      "text/html": [
       "<div>\n",
       "<style scoped>\n",
       "    .dataframe tbody tr th:only-of-type {\n",
       "        vertical-align: middle;\n",
       "    }\n",
       "\n",
       "    .dataframe tbody tr th {\n",
       "        vertical-align: top;\n",
       "    }\n",
       "\n",
       "    .dataframe thead th {\n",
       "        text-align: right;\n",
       "    }\n",
       "</style>\n",
       "<table border=\"1\" class=\"dataframe\">\n",
       "  <thead>\n",
       "    <tr style=\"text-align: right;\">\n",
       "      <th></th>\n",
       "      <th>w</th>\n",
       "      <th>b</th>\n",
       "    </tr>\n",
       "  </thead>\n",
       "  <tbody>\n",
       "    <tr>\n",
       "      <th>0</th>\n",
       "      <td>0.05</td>\n",
       "      <td>-4.00</td>\n",
       "    </tr>\n",
       "    <tr>\n",
       "      <th>1</th>\n",
       "      <td>0.05</td>\n",
       "      <td>-3.99</td>\n",
       "    </tr>\n",
       "    <tr>\n",
       "      <th>2</th>\n",
       "      <td>0.05</td>\n",
       "      <td>-3.98</td>\n",
       "    </tr>\n",
       "    <tr>\n",
       "      <th>3</th>\n",
       "      <td>0.05</td>\n",
       "      <td>-3.97</td>\n",
       "    </tr>\n",
       "    <tr>\n",
       "      <th>4</th>\n",
       "      <td>0.05</td>\n",
       "      <td>-3.96</td>\n",
       "    </tr>\n",
       "    <tr>\n",
       "      <th>...</th>\n",
       "      <td>...</td>\n",
       "      <td>...</td>\n",
       "    </tr>\n",
       "    <tr>\n",
       "      <th>995</th>\n",
       "      <td>0.14</td>\n",
       "      <td>-3.05</td>\n",
       "    </tr>\n",
       "    <tr>\n",
       "      <th>996</th>\n",
       "      <td>0.14</td>\n",
       "      <td>-3.04</td>\n",
       "    </tr>\n",
       "    <tr>\n",
       "      <th>997</th>\n",
       "      <td>0.14</td>\n",
       "      <td>-3.03</td>\n",
       "    </tr>\n",
       "    <tr>\n",
       "      <th>998</th>\n",
       "      <td>0.14</td>\n",
       "      <td>-3.02</td>\n",
       "    </tr>\n",
       "    <tr>\n",
       "      <th>999</th>\n",
       "      <td>0.14</td>\n",
       "      <td>-3.01</td>\n",
       "    </tr>\n",
       "  </tbody>\n",
       "</table>\n",
       "<p>1000 rows × 2 columns</p>\n",
       "</div>"
      ],
      "text/plain": [
       "        w     b\n",
       "0    0.05 -4.00\n",
       "1    0.05 -3.99\n",
       "2    0.05 -3.98\n",
       "3    0.05 -3.97\n",
       "4    0.05 -3.96\n",
       "..    ...   ...\n",
       "995  0.14 -3.05\n",
       "996  0.14 -3.04\n",
       "997  0.14 -3.03\n",
       "998  0.14 -3.02\n",
       "999  0.14 -3.01\n",
       "\n",
       "[1000 rows x 2 columns]"
      ]
     },
     "execution_count": 77,
     "metadata": {},
     "output_type": "execute_result"
    }
   ],
   "source": [
    "df"
   ]
  },
  {
   "cell_type": "code",
   "execution_count": 78,
   "id": "b3a92f83",
   "metadata": {},
   "outputs": [],
   "source": [
    "def sum_error_df(df):\n",
    "    data['sigmoid'] = 1/(1+np.exp(-(data['BMI']*df['w']+df['b'])))\n",
    "    data['loss_xi'] = -data['male']*np.log(data['sigmoid'])-(1-data['male'])*np.log(1-data['sigmoid'])\n",
    "    j_cost = data['loss_xi'].mean()\n",
    "    return(j_cost) \n",
    "    \n",
    "    \n",
    "    "
   ]
  },
  {
   "cell_type": "code",
   "execution_count": 80,
   "id": "3aa5adab",
   "metadata": {},
   "outputs": [],
   "source": [
    "df['error'] = df.apply(sum_error_df, axis=1)"
   ]
  },
  {
   "cell_type": "code",
   "execution_count": 81,
   "id": "2450ee41",
   "metadata": {},
   "outputs": [
    {
     "data": {
      "text/html": [
       "<div>\n",
       "<style scoped>\n",
       "    .dataframe tbody tr th:only-of-type {\n",
       "        vertical-align: middle;\n",
       "    }\n",
       "\n",
       "    .dataframe tbody tr th {\n",
       "        vertical-align: top;\n",
       "    }\n",
       "\n",
       "    .dataframe thead th {\n",
       "        text-align: right;\n",
       "    }\n",
       "</style>\n",
       "<table border=\"1\" class=\"dataframe\">\n",
       "  <thead>\n",
       "    <tr style=\"text-align: right;\">\n",
       "      <th></th>\n",
       "      <th>w</th>\n",
       "      <th>b</th>\n",
       "      <th>error</th>\n",
       "    </tr>\n",
       "  </thead>\n",
       "  <tbody>\n",
       "    <tr>\n",
       "      <th>599</th>\n",
       "      <td>0.10</td>\n",
       "      <td>-3.01</td>\n",
       "      <td>0.689186</td>\n",
       "    </tr>\n",
       "    <tr>\n",
       "      <th>687</th>\n",
       "      <td>0.11</td>\n",
       "      <td>-3.13</td>\n",
       "      <td>0.689286</td>\n",
       "    </tr>\n",
       "    <tr>\n",
       "      <th>688</th>\n",
       "      <td>0.11</td>\n",
       "      <td>-3.12</td>\n",
       "      <td>0.689292</td>\n",
       "    </tr>\n",
       "    <tr>\n",
       "      <th>686</th>\n",
       "      <td>0.11</td>\n",
       "      <td>-3.14</td>\n",
       "      <td>0.689304</td>\n",
       "    </tr>\n",
       "    <tr>\n",
       "      <th>689</th>\n",
       "      <td>0.11</td>\n",
       "      <td>-3.11</td>\n",
       "      <td>0.689322</td>\n",
       "    </tr>\n",
       "  </tbody>\n",
       "</table>\n",
       "</div>"
      ],
      "text/plain": [
       "        w     b     error\n",
       "599  0.10 -3.01  0.689186\n",
       "687  0.11 -3.13  0.689286\n",
       "688  0.11 -3.12  0.689292\n",
       "686  0.11 -3.14  0.689304\n",
       "689  0.11 -3.11  0.689322"
      ]
     },
     "execution_count": 81,
     "metadata": {},
     "output_type": "execute_result"
    }
   ],
   "source": [
    "df.sort_values(by=['error']).head()"
   ]
  },
  {
   "cell_type": "code",
   "execution_count": 83,
   "id": "2617e808",
   "metadata": {},
   "outputs": [],
   "source": [
    "df_3d = df.pivot(index='w', columns='b', values='error')"
   ]
  },
  {
   "cell_type": "code",
   "execution_count": 84,
   "id": "f7d86e11",
   "metadata": {},
   "outputs": [
    {
     "data": {
      "text/html": [
       "<div>\n",
       "<style scoped>\n",
       "    .dataframe tbody tr th:only-of-type {\n",
       "        vertical-align: middle;\n",
       "    }\n",
       "\n",
       "    .dataframe tbody tr th {\n",
       "        vertical-align: top;\n",
       "    }\n",
       "\n",
       "    .dataframe thead th {\n",
       "        text-align: right;\n",
       "    }\n",
       "</style>\n",
       "<table border=\"1\" class=\"dataframe\">\n",
       "  <thead>\n",
       "    <tr style=\"text-align: right;\">\n",
       "      <th>b</th>\n",
       "      <th>-4.00</th>\n",
       "      <th>-3.99</th>\n",
       "      <th>-3.98</th>\n",
       "      <th>-3.97</th>\n",
       "      <th>-3.96</th>\n",
       "      <th>-3.95</th>\n",
       "      <th>-3.94</th>\n",
       "      <th>-3.93</th>\n",
       "      <th>-3.92</th>\n",
       "      <th>-3.91</th>\n",
       "      <th>...</th>\n",
       "      <th>-3.10</th>\n",
       "      <th>-3.09</th>\n",
       "      <th>-3.08</th>\n",
       "      <th>-3.07</th>\n",
       "      <th>-3.06</th>\n",
       "      <th>-3.05</th>\n",
       "      <th>-3.04</th>\n",
       "      <th>-3.03</th>\n",
       "      <th>-3.02</th>\n",
       "      <th>-3.01</th>\n",
       "    </tr>\n",
       "    <tr>\n",
       "      <th>w</th>\n",
       "      <th></th>\n",
       "      <th></th>\n",
       "      <th></th>\n",
       "      <th></th>\n",
       "      <th></th>\n",
       "      <th></th>\n",
       "      <th></th>\n",
       "      <th></th>\n",
       "      <th></th>\n",
       "      <th></th>\n",
       "      <th></th>\n",
       "      <th></th>\n",
       "      <th></th>\n",
       "      <th></th>\n",
       "      <th></th>\n",
       "      <th></th>\n",
       "      <th></th>\n",
       "      <th></th>\n",
       "      <th></th>\n",
       "      <th></th>\n",
       "      <th></th>\n",
       "    </tr>\n",
       "  </thead>\n",
       "  <tbody>\n",
       "    <tr>\n",
       "      <th>0.05</th>\n",
       "      <td>1.222627</td>\n",
       "      <td>1.218966</td>\n",
       "      <td>1.215310</td>\n",
       "      <td>1.211661</td>\n",
       "      <td>1.208017</td>\n",
       "      <td>1.204380</td>\n",
       "      <td>1.200749</td>\n",
       "      <td>1.197124</td>\n",
       "      <td>1.193506</td>\n",
       "      <td>1.189894</td>\n",
       "      <td>...</td>\n",
       "      <td>0.924161</td>\n",
       "      <td>0.921292</td>\n",
       "      <td>0.918436</td>\n",
       "      <td>0.915591</td>\n",
       "      <td>0.912760</td>\n",
       "      <td>0.909940</td>\n",
       "      <td>0.907134</td>\n",
       "      <td>0.904340</td>\n",
       "      <td>0.901559</td>\n",
       "      <td>0.898790</td>\n",
       "    </tr>\n",
       "    <tr>\n",
       "      <th>0.06</th>\n",
       "      <td>1.129303</td>\n",
       "      <td>1.125820</td>\n",
       "      <td>1.122344</td>\n",
       "      <td>1.118875</td>\n",
       "      <td>1.115414</td>\n",
       "      <td>1.111961</td>\n",
       "      <td>1.108516</td>\n",
       "      <td>1.105078</td>\n",
       "      <td>1.101648</td>\n",
       "      <td>1.098226</td>\n",
       "      <td>...</td>\n",
       "      <td>0.854046</td>\n",
       "      <td>0.851530</td>\n",
       "      <td>0.849028</td>\n",
       "      <td>0.846541</td>\n",
       "      <td>0.844068</td>\n",
       "      <td>0.841611</td>\n",
       "      <td>0.839168</td>\n",
       "      <td>0.836740</td>\n",
       "      <td>0.834328</td>\n",
       "      <td>0.831930</td>\n",
       "    </tr>\n",
       "    <tr>\n",
       "      <th>0.07</th>\n",
       "      <td>1.041433</td>\n",
       "      <td>1.038171</td>\n",
       "      <td>1.034919</td>\n",
       "      <td>1.031676</td>\n",
       "      <td>1.028443</td>\n",
       "      <td>1.025219</td>\n",
       "      <td>1.022005</td>\n",
       "      <td>1.018800</td>\n",
       "      <td>1.015605</td>\n",
       "      <td>1.012420</td>\n",
       "      <td>...</td>\n",
       "      <td>0.794302</td>\n",
       "      <td>0.792200</td>\n",
       "      <td>0.790115</td>\n",
       "      <td>0.788047</td>\n",
       "      <td>0.785997</td>\n",
       "      <td>0.783963</td>\n",
       "      <td>0.781947</td>\n",
       "      <td>0.779948</td>\n",
       "      <td>0.777967</td>\n",
       "      <td>0.776003</td>\n",
       "    </tr>\n",
       "    <tr>\n",
       "      <th>0.08</th>\n",
       "      <td>0.960335</td>\n",
       "      <td>0.957347</td>\n",
       "      <td>0.954370</td>\n",
       "      <td>0.951405</td>\n",
       "      <td>0.948450</td>\n",
       "      <td>0.945508</td>\n",
       "      <td>0.942576</td>\n",
       "      <td>0.939657</td>\n",
       "      <td>0.936749</td>\n",
       "      <td>0.933853</td>\n",
       "      <td>...</td>\n",
       "      <td>0.746590</td>\n",
       "      <td>0.744964</td>\n",
       "      <td>0.743357</td>\n",
       "      <td>0.741769</td>\n",
       "      <td>0.740200</td>\n",
       "      <td>0.738651</td>\n",
       "      <td>0.737122</td>\n",
       "      <td>0.735612</td>\n",
       "      <td>0.734122</td>\n",
       "      <td>0.732652</td>\n",
       "    </tr>\n",
       "    <tr>\n",
       "      <th>0.09</th>\n",
       "      <td>0.887490</td>\n",
       "      <td>0.884832</td>\n",
       "      <td>0.882186</td>\n",
       "      <td>0.879554</td>\n",
       "      <td>0.876936</td>\n",
       "      <td>0.874331</td>\n",
       "      <td>0.871740</td>\n",
       "      <td>0.869163</td>\n",
       "      <td>0.866600</td>\n",
       "      <td>0.864052</td>\n",
       "      <td>...</td>\n",
       "      <td>0.712434</td>\n",
       "      <td>0.711338</td>\n",
       "      <td>0.710263</td>\n",
       "      <td>0.709209</td>\n",
       "      <td>0.708176</td>\n",
       "      <td>0.707165</td>\n",
       "      <td>0.706175</td>\n",
       "      <td>0.705206</td>\n",
       "      <td>0.704259</td>\n",
       "      <td>0.703334</td>\n",
       "    </tr>\n",
       "  </tbody>\n",
       "</table>\n",
       "<p>5 rows × 100 columns</p>\n",
       "</div>"
      ],
      "text/plain": [
       "b        -4.00     -3.99     -3.98     -3.97     -3.96     -3.95     -3.94  \\\n",
       "w                                                                            \n",
       "0.05  1.222627  1.218966  1.215310  1.211661  1.208017  1.204380  1.200749   \n",
       "0.06  1.129303  1.125820  1.122344  1.118875  1.115414  1.111961  1.108516   \n",
       "0.07  1.041433  1.038171  1.034919  1.031676  1.028443  1.025219  1.022005   \n",
       "0.08  0.960335  0.957347  0.954370  0.951405  0.948450  0.945508  0.942576   \n",
       "0.09  0.887490  0.884832  0.882186  0.879554  0.876936  0.874331  0.871740   \n",
       "\n",
       "b        -3.93     -3.92     -3.91  ...     -3.10     -3.09     -3.08  \\\n",
       "w                                   ...                                 \n",
       "0.05  1.197124  1.193506  1.189894  ...  0.924161  0.921292  0.918436   \n",
       "0.06  1.105078  1.101648  1.098226  ...  0.854046  0.851530  0.849028   \n",
       "0.07  1.018800  1.015605  1.012420  ...  0.794302  0.792200  0.790115   \n",
       "0.08  0.939657  0.936749  0.933853  ...  0.746590  0.744964  0.743357   \n",
       "0.09  0.869163  0.866600  0.864052  ...  0.712434  0.711338  0.710263   \n",
       "\n",
       "b        -3.07     -3.06     -3.05     -3.04     -3.03     -3.02     -3.01  \n",
       "w                                                                           \n",
       "0.05  0.915591  0.912760  0.909940  0.907134  0.904340  0.901559  0.898790  \n",
       "0.06  0.846541  0.844068  0.841611  0.839168  0.836740  0.834328  0.831930  \n",
       "0.07  0.788047  0.785997  0.783963  0.781947  0.779948  0.777967  0.776003  \n",
       "0.08  0.741769  0.740200  0.738651  0.737122  0.735612  0.734122  0.732652  \n",
       "0.09  0.709209  0.708176  0.707165  0.706175  0.705206  0.704259  0.703334  \n",
       "\n",
       "[5 rows x 100 columns]"
      ]
     },
     "execution_count": 84,
     "metadata": {},
     "output_type": "execute_result"
    }
   ],
   "source": [
    "df_3d.head()"
   ]
  },
  {
   "cell_type": "code",
   "execution_count": 86,
   "id": "b6e667a4",
   "metadata": {},
   "outputs": [],
   "source": [
    "import matplotlib as mpl"
   ]
  },
  {
   "cell_type": "code",
   "execution_count": 87,
   "id": "89054668",
   "metadata": {},
   "outputs": [],
   "source": [
    "import matplotlib.pyplot as plt"
   ]
  },
  {
   "cell_type": "code",
   "execution_count": 88,
   "id": "9c0af887",
   "metadata": {},
   "outputs": [],
   "source": [
    "from mpl_toolkits.mplot3d import Axes3D"
   ]
  },
  {
   "cell_type": "code",
   "execution_count": 90,
   "id": "1f94840d",
   "metadata": {},
   "outputs": [
    {
     "data": {
      "text/plain": [
       "<mpl_toolkits.mplot3d.art3d.Poly3DCollection at 0x18a021b9690>"
      ]
     },
     "execution_count": 90,
     "metadata": {},
     "output_type": "execute_result"
    },
    {
     "data": {
      "image/png": "[encoded data removed]",
      "text/plain": [
       "<Figure size 640x480 with 1 Axes>"
      ]
     },
     "metadata": {},
     "output_type": "display_data"
    }
   ],
   "source": [
    "x = df_3d.columns\n",
    "y = df_3d.index \n",
    "x,y = np.meshgrid(x,y)\n",
    "z = df_3d\n",
    "\n",
    "fig = plt.figure()\n",
    "ax = fig.add_subplot(111, projection='3d')\n",
    "ax.plot_surface(x, y, z)"
   ]
  },
  {
   "cell_type": "code",
   "execution_count": 91,
   "id": "d79b6713",
   "metadata": {},
   "outputs": [
    {
     "data": {
      "text/plain": [
       "<matplotlib.contour.QuadContourSet at 0x18a02457510>"
      ]
     },
     "execution_count": 91,
     "metadata": {},
     "output_type": "execute_result"
    },
    {
     "data": {
      "image/png": "[encoded data removed]",
      "text/plain": [
       "<Figure size 640x480 with 1 Axes>"
      ]
     },
     "metadata": {},
     "output_type": "display_data"
    }
   ],
   "source": [
    "x = df_3d.columns\n",
    "y = df_3d.index \n",
    "x,y = np.meshgrid(x,y)\n",
    "z=df_3d\n",
    "plt.contourf(y, x, z, alpha=0.7, cmap=plt.cm.jet)"
   ]
  },
  {
   "cell_type": "code",
   "execution_count": 115,
   "id": "780bfbf2",
   "metadata": {},
   "outputs": [],
   "source": [
    "def delta_j_w(w, b):\n",
    "    data['sigmoid'] = 1/(1+np.exp(-(data['BMI']*w+b)))\n",
    "    data['partial_loss'] = (data['sigmoid']-data['male'])*data['BMI']\n",
    "    derivative = data['partial_loss'].mean()\n",
    "    return(derivative)\n",
    "\n",
    "def delta_j_b(w, b):\n",
    "    data['sigmoid'] = 1/(1+np.exp(-(data['BMI']*w+b)))\n",
    "    data['partial_loss'] = (data['sigmoid']-data['male'])\n",
    "    derivative = data['partial_loss'].mean()\n",
    "    return(derivative)   "
   ]
  },
  {
   "cell_type": "code",
   "execution_count": 116,
   "id": "e0dd6501",
   "metadata": {},
   "outputs": [],
   "source": [
    "w_0 = 0.09\n",
    "b_0 = -3.57"
   ]
  },
  {
   "cell_type": "code",
   "execution_count": 117,
   "id": "8d9bed67",
   "metadata": {
    "scrolled": false
   },
   "outputs": [
    {
     "name": "stdout",
     "output_type": "stream",
     "text": [
      "0.09507176807009517 -3.5499069024010605\n"
     ]
    }
   ],
   "source": [
    "alpha_w = 0.001\n",
    "alpha_b = 0.1\n",
    "\n",
    "w_new = w_0 - alpha_w * delta_j_w(w_0, b_0)\n",
    "b_new = b_0 - alpha_b * delta_j_b(w_0, b_0)\n",
    "\n",
    "w_0 = w_new\n",
    "b_0 = b_new\n",
    "    \n",
    "print(w_0, b_0)"
   ]
  },
  {
   "cell_type": "code",
   "execution_count": null,
   "id": "f9701867",
   "metadata": {},
   "outputs": [],
   "source": []
  },
  {
   "cell_type": "code",
   "execution_count": null,
   "id": "c22e9101",
   "metadata": {},
   "outputs": [],
   "source": []
  },
  {
   "cell_type": "code",
   "execution_count": null,
   "id": "4a8693e4",
   "metadata": {},
   "outputs": [],
   "source": []
  }
 ],
 "metadata": {
  "kernelspec": {
   "display_name": "Python 3 (ipykernel)",
   "language": "python",
   "name": "python3"
  },
  "language_info": {
   "codemirror_mode": {
    "name": "ipython",
    "version": 3
   },
   "file_extension": ".py",
   "mimetype": "text/x-python",
   "name": "python",
   "nbconvert_exporter": "python",
   "pygments_lexer": "ipython3",
   "version": "3.11.4"
  }
 },
 "nbformat": 4,
 "nbformat_minor": 5
}
